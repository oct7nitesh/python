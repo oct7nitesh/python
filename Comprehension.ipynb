{
 "cells": [
  {
   "cell_type": "code",
   "execution_count": 6,
   "metadata": {},
   "outputs": [
    {
     "name": "stdout",
     "output_type": "stream",
     "text": [
      "[]\n"
     ]
    }
   ],
   "source": [
    "num = [1,2,3,4,5,6,7,8,9,10,11,12]\n",
    "my_list = []\n",
    "my_list2 = []\n",
    "my_list3 = []\n",
    "print(my_list)"
   ]
  },
  {
   "cell_type": "code",
   "execution_count": 7,
   "metadata": {},
   "outputs": [
    {
     "name": "stdout",
     "output_type": "stream",
     "text": [
      "[1, 2, 3, 4, 5, 6, 7, 8, 9, 10, 11, 12]\n"
     ]
    }
   ],
   "source": [
    "for nitesh in num:\n",
    "    my_list3.append(nitesh)\n",
    "\n",
    "print(my_list3)"
   ]
  },
  {
   "cell_type": "code",
   "execution_count": 16,
   "metadata": {},
   "outputs": [
    {
     "name": "stdout",
     "output_type": "stream",
     "text": [
      "K\n",
      "i\n",
      "s\n",
      "h\n",
      "o\n",
      "r\n",
      " \n",
      "K\n",
      "u\n",
      "n\n",
      "a\n",
      "l\n"
     ]
    }
   ],
   "source": [
    "for x in \"Kishor Kunal\":\n",
    "    print(x)"
   ]
  },
  {
   "cell_type": "code",
   "execution_count": 14,
   "metadata": {},
   "outputs": [
    {
     "name": "stdout",
     "output_type": "stream",
     "text": [
      "0\n",
      "1\n",
      "2\n",
      "3\n",
      "4\n",
      "5\n",
      "6\n",
      "7\n",
      "8\n",
      "9\n",
      "10\n",
      "11\n"
     ]
    }
   ],
   "source": [
    "for x in range(12):\n",
    "    print(x)"
   ]
  },
  {
   "cell_type": "code",
   "execution_count": 21,
   "metadata": {
    "collapsed": true
   },
   "outputs": [],
   "source": [
    "num = [1,2,3,4,5,6,7,8,9,10,11,12]\n",
    "my_list = []\n",
    "my_list1 = []"
   ]
  },
  {
   "cell_type": "code",
   "execution_count": 18,
   "metadata": {},
   "outputs": [
    {
     "name": "stdout",
     "output_type": "stream",
     "text": [
      "[1, 2, 3, 4, 5, 6, 7, 8, 9, 10, 11, 12]\n"
     ]
    }
   ],
   "source": [
    "for x in num:\n",
    "    my_list.append(x)\n",
    "    \n",
    "print(my_list)"
   ]
  },
  {
   "cell_type": "code",
   "execution_count": 20,
   "metadata": {},
   "outputs": [
    {
     "name": "stdout",
     "output_type": "stream",
     "text": [
      "[1, 2, 3, 4, 5, 6, 7, 8, 9, 10, 11, 12]\n"
     ]
    }
   ],
   "source": [
    "my_list1 = [x for x in num]\n",
    "print(my_list1)"
   ]
  },
  {
   "cell_type": "code",
   "execution_count": 28,
   "metadata": {},
   "outputs": [
    {
     "name": "stdout",
     "output_type": "stream",
     "text": [
      "[4, 16, 36, 64, 100, 144]\n"
     ]
    }
   ],
   "source": [
    "my_list = [n*n for n in num if n%2==0 ]\n",
    "print(my_list)"
   ]
  },
  {
   "cell_type": "code",
   "execution_count": 29,
   "metadata": {
    "collapsed": true
   },
   "outputs": [],
   "source": [
    "num = [1,2,3,4,5,6,7,8,9,10,11,12]\n",
    "my_list = [2,4,6,8,10]"
   ]
  },
  {
   "cell_type": "code",
   "execution_count": 31,
   "metadata": {},
   "outputs": [
    {
     "name": "stdout",
     "output_type": "stream",
     "text": [
      "1 2\n",
      "1 4\n",
      "1 6\n",
      "1 8\n",
      "1 10\n",
      "2 2\n",
      "2 4\n",
      "2 6\n",
      "2 8\n",
      "2 10\n",
      "3 2\n",
      "3 4\n",
      "3 6\n",
      "3 8\n",
      "3 10\n",
      "4 2\n",
      "4 4\n",
      "4 6\n",
      "4 8\n",
      "4 10\n",
      "5 2\n",
      "5 4\n",
      "5 6\n",
      "5 8\n",
      "5 10\n",
      "6 2\n",
      "6 4\n",
      "6 6\n",
      "6 8\n",
      "6 10\n",
      "7 2\n",
      "7 4\n",
      "7 6\n",
      "7 8\n",
      "7 10\n",
      "8 2\n",
      "8 4\n",
      "8 6\n",
      "8 8\n",
      "8 10\n",
      "9 2\n",
      "9 4\n",
      "9 6\n",
      "9 8\n",
      "9 10\n",
      "10 2\n",
      "10 4\n",
      "10 6\n",
      "10 8\n",
      "10 10\n",
      "11 2\n",
      "11 4\n",
      "11 6\n",
      "11 8\n",
      "11 10\n",
      "12 2\n",
      "12 4\n",
      "12 6\n",
      "12 8\n",
      "12 10\n"
     ]
    }
   ],
   "source": [
    "for x in num:\n",
    "    for y in my_list:\n",
    "        print(x,y)"
   ]
  },
  {
   "cell_type": "code",
   "execution_count": 34,
   "metadata": {
    "collapsed": true
   },
   "outputs": [],
   "source": [
    "num = (1,2,3,4,5,6,7,8,9,10,11,12)\n",
    "my_list = [2,4,6,8,10]\n",
    "my_list1 = []"
   ]
  },
  {
   "cell_type": "code",
   "execution_count": 40,
   "metadata": {},
   "outputs": [
    {
     "name": "stdout",
     "output_type": "stream",
     "text": [
      "[(1, 2), (1, 4), (1, 6), (1, 8), (1, 10), (2, 2), (2, 4), (2, 6), (2, 8), (2, 10), (3, 2), (3, 4), (3, 6), (3, 8), (3, 10), (4, 2), (4, 4), (4, 6), (4, 8), (4, 10), (5, 2), (5, 4), (5, 6), (5, 8), (5, 10), (6, 2), (6, 4), (6, 6), (6, 8), (6, 10), (7, 2), (7, 4), (7, 6), (7, 8), (7, 10), (8, 2), (8, 4), (8, 6), (8, 8), (8, 10), (9, 2), (9, 4), (9, 6), (9, 8), (9, 10), (10, 2), (10, 4), (10, 6), (10, 8), (10, 10), (11, 2), (11, 4), (11, 6), (11, 8), (11, 10), (12, 2), (12, 4), (12, 6), (12, 8), (12, 10)]\n"
     ]
    }
   ],
   "source": [
    "my_list1 = [(x,y) for x in num for y in my_list]\n",
    "print(my_list1)"
   ]
  },
  {
   "cell_type": "code",
   "execution_count": 41,
   "metadata": {},
   "outputs": [
    {
     "name": "stdout",
     "output_type": "stream",
     "text": [
      "<generator object <genexpr> at 0x000002D651A8C360>\n"
     ]
    }
   ],
   "source": [
    "my_list1 = ((x,y) for x in num for y in my_list)\n",
    "print(my_list1)"
   ]
  },
  {
   "cell_type": "code",
   "execution_count": 42,
   "metadata": {},
   "outputs": [
    {
     "name": "stdout",
     "output_type": "stream",
     "text": [
      "(1, 2)\n",
      "(1, 4)\n",
      "(1, 6)\n",
      "(1, 8)\n",
      "(1, 10)\n",
      "(2, 2)\n",
      "(2, 4)\n",
      "(2, 6)\n",
      "(2, 8)\n",
      "(2, 10)\n",
      "(3, 2)\n",
      "(3, 4)\n",
      "(3, 6)\n",
      "(3, 8)\n",
      "(3, 10)\n",
      "(4, 2)\n",
      "(4, 4)\n",
      "(4, 6)\n",
      "(4, 8)\n",
      "(4, 10)\n",
      "(5, 2)\n",
      "(5, 4)\n",
      "(5, 6)\n",
      "(5, 8)\n",
      "(5, 10)\n",
      "(6, 2)\n",
      "(6, 4)\n",
      "(6, 6)\n",
      "(6, 8)\n",
      "(6, 10)\n",
      "(7, 2)\n",
      "(7, 4)\n",
      "(7, 6)\n",
      "(7, 8)\n",
      "(7, 10)\n",
      "(8, 2)\n",
      "(8, 4)\n",
      "(8, 6)\n",
      "(8, 8)\n",
      "(8, 10)\n",
      "(9, 2)\n",
      "(9, 4)\n",
      "(9, 6)\n",
      "(9, 8)\n",
      "(9, 10)\n",
      "(10, 2)\n",
      "(10, 4)\n",
      "(10, 6)\n",
      "(10, 8)\n",
      "(10, 10)\n",
      "(11, 2)\n",
      "(11, 4)\n",
      "(11, 6)\n",
      "(11, 8)\n",
      "(11, 10)\n",
      "(12, 2)\n",
      "(12, 4)\n",
      "(12, 6)\n",
      "(12, 8)\n",
      "(12, 10)\n"
     ]
    }
   ],
   "source": [
    "for n in my_list1:\n",
    "    print(n)"
   ]
  },
  {
   "cell_type": "code",
   "execution_count": 43,
   "metadata": {
    "collapsed": true
   },
   "outputs": [],
   "source": [
    "## Dictinary"
   ]
  },
  {
   "cell_type": "code",
   "execution_count": null,
   "metadata": {
    "collapsed": true
   },
   "outputs": [],
   "source": [
    "dict = {}\n",
    "names = ['Bruce', 'Clark', 'Peter', 'Logan', 'Wade']\n",
    "heros = ['Batman', 'Superman', 'Spiderman', 'Wolverine', 'Deadpool']\n",
    "help(zip(names,heros))"
   ]
  },
  {
   "cell_type": "code",
   "execution_count": 47,
   "metadata": {},
   "outputs": [
    {
     "name": "stdout",
     "output_type": "stream",
     "text": [
      "<class 'dict'>\n"
     ]
    }
   ],
   "source": [
    "d = {}\n",
    "print(type(d))"
   ]
  },
  {
   "cell_type": "code",
   "execution_count": 60,
   "metadata": {},
   "outputs": [
    {
     "ename": "KeyError",
     "evalue": "('Contact', 'Name')",
     "output_type": "error",
     "traceback": [
      "\u001b[1;31m---------------------------------------------------------------------------\u001b[0m",
      "\u001b[1;31mKeyError\u001b[0m                                  Traceback (most recent call last)",
      "\u001b[1;32m<ipython-input-60-ae3398f2a72c>\u001b[0m in \u001b[0;36m<module>\u001b[1;34m()\u001b[0m\n\u001b[0;32m      1\u001b[0m \u001b[0mmy_class\u001b[0m \u001b[1;33m=\u001b[0m \u001b[1;33m{\u001b[0m\u001b[1;34m'Name'\u001b[0m\u001b[1;33m:\u001b[0m\u001b[1;34m'Kunal'\u001b[0m\u001b[1;33m,\u001b[0m \u001b[1;34m'Contact'\u001b[0m\u001b[1;33m:\u001b[0m\u001b[1;34m'7092354513'\u001b[0m\u001b[1;33m,\u001b[0m \u001b[1;34m'Salary'\u001b[0m\u001b[1;33m:\u001b[0m\u001b[1;36m35000\u001b[0m\u001b[1;33m}\u001b[0m\u001b[1;33m\u001b[0m\u001b[0m\n\u001b[1;32m----> 2\u001b[1;33m \u001b[0mprint\u001b[0m\u001b[1;33m(\u001b[0m\u001b[0mmy_class\u001b[0m\u001b[1;33m[\u001b[0m\u001b[1;34m'Contact'\u001b[0m\u001b[1;33m,\u001b[0m\u001b[1;34m'Name'\u001b[0m\u001b[1;33m]\u001b[0m\u001b[1;33m)\u001b[0m\u001b[1;33m\u001b[0m\u001b[0m\n\u001b[0m",
      "\u001b[1;31mKeyError\u001b[0m: ('Contact', 'Name')"
     ]
    }
   ],
   "source": [
    "my_class = {'Name':'Kunal', 'Contact':'7092354513', 'Salary':35000}\n",
    "print(my_class['Contact','Name'])"
   ]
  },
  {
   "cell_type": "code",
   "execution_count": 61,
   "metadata": {},
   "outputs": [
    {
     "ename": "AttributeError",
     "evalue": "'dict' object has no attribute 'itmes'",
     "output_type": "error",
     "traceback": [
      "\u001b[1;31m---------------------------------------------------------------------------\u001b[0m",
      "\u001b[1;31mAttributeError\u001b[0m                            Traceback (most recent call last)",
      "\u001b[1;32m<ipython-input-61-31f911bcaefe>\u001b[0m in \u001b[0;36m<module>\u001b[1;34m()\u001b[0m\n\u001b[1;32m----> 1\u001b[1;33m \u001b[1;32mfor\u001b[0m \u001b[0mi\u001b[0m\u001b[1;33m,\u001b[0m\u001b[0mj\u001b[0m \u001b[1;32min\u001b[0m \u001b[0mmy_class\u001b[0m\u001b[1;33m.\u001b[0m\u001b[0mitmes\u001b[0m\u001b[1;33m(\u001b[0m\u001b[1;33m)\u001b[0m\u001b[1;33m:\u001b[0m\u001b[1;33m\u001b[0m\u001b[0m\n\u001b[0m\u001b[0;32m      2\u001b[0m     \u001b[0mprint\u001b[0m\u001b[1;33m(\u001b[0m\u001b[0mi\u001b[0m\u001b[1;33m,\u001b[0m\u001b[0mj\u001b[0m\u001b[1;33m)\u001b[0m\u001b[1;33m\u001b[0m\u001b[0m\n",
      "\u001b[1;31mAttributeError\u001b[0m: 'dict' object has no attribute 'itmes'"
     ]
    }
   ],
   "source": [
    "for i,j in my_class.itmes():\n",
    "    print(i,j)"
   ]
  }
 ],
 "metadata": {
  "kernelspec": {
   "display_name": "Python 3",
   "language": "python",
   "name": "python3"
  },
  "language_info": {
   "codemirror_mode": {
    "name": "ipython",
    "version": 3
   },
   "file_extension": ".py",
   "mimetype": "text/x-python",
   "name": "python",
   "nbconvert_exporter": "python",
   "pygments_lexer": "ipython3",
   "version": "3.6.1"
  }
 },
 "nbformat": 4,
 "nbformat_minor": 2
}
